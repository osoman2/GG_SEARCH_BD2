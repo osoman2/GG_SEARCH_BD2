{
  "nbformat": 4,
  "nbformat_minor": 0,
  "metadata": {
    "colab": {
      "name": "InvertedIndex",
      "provenance": [],
      "collapsed_sections": [],
      "authorship_tag": "ABX9TyOmlmw86vXOUA5yvoxaj5aF",
      "include_colab_link": true
    },
    "kernelspec": {
      "display_name": "Python 3",
      "name": "python3"
    }
  },
  "cells": [
    {
      "cell_type": "markdown",
      "metadata": {
        "id": "view-in-github",
        "colab_type": "text"
      },
      "source": [
        "<a href=\"https://colab.research.google.com/github/THEFLILUX/GG_SEARCH_BD2/blob/main/Backend/InvertedIndex.ipynb\" target=\"_parent\"><img src=\"https://colab.research.google.com/assets/colab-badge.svg\" alt=\"Open In Colab\"/></a>"
      ]
    },
    {
      "cell_type": "code",
      "metadata": {
        "id": "IGyg3xFNxx8X",
        "colab": {
          "base_uri": "https://localhost:8080/"
        },
        "outputId": "e8c0eb21-e75f-4ae8-8505-b9909e0a36b0"
      },
      "source": [
        "from google.colab import drive\n",
        "drive.mount('/content/drive')"
      ],
      "execution_count": 2,
      "outputs": [
        {
          "output_type": "stream",
          "text": [
            "Mounted at /content/drive\n"
          ],
          "name": "stdout"
        }
      ]
    },
    {
      "cell_type": "code",
      "metadata": {
        "id": "RNxLg_XH3TpD",
        "colab": {
          "resources": {
            "http://localhost:8080/nbextensions/google.colab/files.js": {
              "data": "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",
              "ok": true,
              "headers": [
                [
                  "content-type",
                  "application/javascript"
                ]
              ],
              "status": 200,
              "status_text": "OK"
            }
          },
          "base_uri": "https://localhost:8080/",
          "height": 74
        },
        "outputId": "83fd08f4-20f2-49f8-fc4e-257d739efe42"
      },
      "source": [
        "import io\n",
        "from google.colab import files\n",
        "\n",
        "teacher_sw = files.upload()"
      ],
      "execution_count": 3,
      "outputs": [
        {
          "output_type": "display_data",
          "data": {
            "text/html": [
              "\n",
              "     <input type=\"file\" id=\"files-75c6989a-72d6-4dde-9178-5abbfee0c8be\" name=\"files[]\" multiple disabled\n",
              "        style=\"border:none\" />\n",
              "     <output id=\"result-75c6989a-72d6-4dde-9178-5abbfee0c8be\">\n",
              "      Upload widget is only available when the cell has been executed in the\n",
              "      current browser session. Please rerun this cell to enable.\n",
              "      </output>\n",
              "      <script src=\"/nbextensions/google.colab/files.js\"></script> "
            ],
            "text/plain": [
              "<IPython.core.display.HTML object>"
            ]
          },
          "metadata": {
            "tags": []
          }
        },
        {
          "output_type": "stream",
          "text": [
            "Saving stoplist_new.txt to stoplist_new.txt\n"
          ],
          "name": "stdout"
        }
      ]
    },
    {
      "cell_type": "markdown",
      "metadata": {
        "id": "-pbAl7y03hN9"
      },
      "source": [
        "*Function to get the words from the file and removes the stop words from stoplist.txt and other unnecessary characters*"
      ]
    },
    {
      "cell_type": "code",
      "metadata": {
        "id": "fKdRxvZd3e6J"
      },
      "source": [
        "def getStopWordsFromFile(filename):\n",
        "  stoplist = open(filename, encoding='latin-1')\n",
        "\n",
        "  stop_words = []\n",
        "  for line in stoplist:\n",
        "    line = line.rstrip('\\r\\n')\n",
        "    stop_words.append(line);\n",
        "  \n",
        "  if stoplist:\n",
        "    stoplist.close()\n",
        "\n",
        "  #additionals\n",
        "  stop_words.append(\",\")\n",
        "  stop_words.append(\".\")\n",
        "  stop_words.append(\";\")\n",
        "  stop_words.append(\"La\")\n",
        "  stop_words.append(\"la\")\n",
        "  stop_words.append(\"«\")\n",
        "  stop_words.append(\"»\")\n",
        "  stop_words.append(\":\")\n",
        "  stop_words.append(\"El\")\n",
        "  stop_words.append(\"En\")\n",
        "  stop_words.append(\"De\")\n",
        "  stop_words.append(\"Al\")\n",
        "  stop_words.append(\"(\")\n",
        "  stop_words.append(\")\")\n",
        "  stop_words.append(\"``\")\n",
        "  stop_words.append(\"''\")\n",
        "  stop_words.append(\"“\")\n",
        "  stop_words.append(\"”\")\n",
        "  stop_words.append(\"...\")\n",
        "  stop_words.append(\"RT\")\n",
        "  stop_words.append(\"--\")\n",
        "  stop_words.append(\".-\")\n",
        "  stop_words.append(\"..\")\n",
        "  stop_words.append(\"*-*\")\n",
        "  stop_words.append(\"***\")\n",
        "  stop_words.append(\"/…\")\n",
        "  return stop_words"
      ],
      "execution_count": 4,
      "outputs": []
    },
    {
      "cell_type": "code",
      "metadata": {
        "id": "l0lzit2N71fi"
      },
      "source": [
        "import re\n",
        "\n",
        "emoji_pattern = re.compile(\"[\"\n",
        "                           u\"\\U0001F600-\\U0001F64F\"  # emoticons\n",
        "                           u\"\\U0001F300-\\U0001F5FF\"  # symbols & pictographs\n",
        "                           u\"\\U0001F680-\\U0001F6FF\"  # transport & map symbols\n",
        "                           u\"\\U0001F1E0-\\U0001F1FF\"  # flags (iOS)\n",
        "                           u\"\\U0001F914-\\U0001F914\"  #Thinking emoticon 🤔\n",
        "                           u\"\\U0001f924-\\U0001f924\"  #🤤\n",
        "                           u\"\\U0001F923-\\U0001F923\" #🤣\n",
        "                           u\"\\U0001F922-\\U0001F922\" #🤢\n",
        "                           u\"\\U00002702-\\U000027B0\" \n",
        "                           u\"\\U000024C2-\\U0001F251\"\n",
        "                           u\"\\U0001F997-\\U0001F997\" #🦗 \n",
        "                           \"]+\", flags=re.UNICODE)"
      ],
      "execution_count": 5,
      "outputs": []
    },
    {
      "cell_type": "markdown",
      "metadata": {
        "id": "aBhStF5U3-Ly"
      },
      "source": [
        "*Function to remove the stop words from a token list*"
      ]
    },
    {
      "cell_type": "code",
      "metadata": {
        "id": "pvAdkuRi32mh"
      },
      "source": [
        "def remove_stop_words(token_list, sw_list):\n",
        "  tokens_clean = token_list.copy()\n",
        "  for token in token_list:\n",
        "    if token in sw_list:\n",
        "      tokens_clean.remove(token)\n",
        "    #remove emojis\n",
        "    tmp = emoji_pattern.sub(r'', token)    \n",
        "    if len(token) != len(tmp):\n",
        "      tokens_clean.remove(token)\n",
        "\n",
        "    if \"//t.co/\" in token:\n",
        "      try:     \n",
        "        tokens_clean.remove(token)\n",
        "      except ValueError as e:\n",
        "        print(\" Error in token \", token)\n",
        "\n",
        "  return tokens_clean"
      ],
      "execution_count": 30,
      "outputs": []
    },
    {
      "cell_type": "code",
      "metadata": {
        "id": "tXjgNR3e4f8X",
        "colab": {
          "base_uri": "https://localhost:8080/"
        },
        "outputId": "2262e5a6-6147-40eb-e10f-5f07b3bb8285"
      },
      "source": [
        "import nltk \n",
        "nltk.download('punkt')"
      ],
      "execution_count": 7,
      "outputs": [
        {
          "output_type": "stream",
          "text": [
            "[nltk_data] Downloading package punkt to /root/nltk_data...\n",
            "[nltk_data]   Unzipping tokenizers/punkt.zip.\n"
          ],
          "name": "stdout"
        },
        {
          "output_type": "execute_result",
          "data": {
            "text/plain": [
              "True"
            ]
          },
          "metadata": {
            "tags": []
          },
          "execution_count": 7
        }
      ]
    },
    {
      "cell_type": "code",
      "metadata": {
        "id": "mBoLY-iWnBp7"
      },
      "source": [
        "class WordCount:\n",
        "  def __init__(self):\n",
        "    self.df = set()\n",
        "    self.tfd = {}\n"
      ],
      "execution_count": 8,
      "outputs": []
    },
    {
      "cell_type": "code",
      "metadata": {
        "id": "nHsaCqhhq2aC"
      },
      "source": [
        "def calculate_df_tfd(tokens_clean, terms, doc_id):\n",
        "  from nltk.stem import SnowballStemmer\n",
        "  stemmer = SnowballStemmer('spanish')\n",
        "\n",
        "  for token in tokens_clean:\n",
        "    token = stemmer.stem(token)\n",
        "    if token not in terms:\n",
        "      terms[token] = WordCount() \n",
        "      \n",
        "      terms[token].df.add(doc_id)\n",
        "\n",
        "      if doc_id in terms[token].tfd:\n",
        "        terms[token].tfd[doc_id] = terms[token].tfd[doc_id] + 1\n",
        "      else:\n",
        "        terms[token].tfd[doc_id] = 1\n",
        "\n",
        "    else:\n",
        "      tmp = terms[token]\n",
        "      \n",
        "      tmp.df.add(doc_id)\n",
        "\n",
        "      if doc_id in tmp.tfd:\n",
        "        tmp.tfd[doc_id] = tmp.tfd[doc_id] + 1\n",
        "      else:\n",
        "        tmp.tfd[doc_id] = 1\n",
        "\n",
        "      terms[token] = tmp"
      ],
      "execution_count": 9,
      "outputs": []
    },
    {
      "cell_type": "markdown",
      "metadata": {
        "id": "pEbucEbiWPqz"
      },
      "source": [
        "###Formula\n",
        "\n",
        "**w𝑡,𝑑=log10(1+tf𝑡,𝑑)×log10(𝑁/df𝑡)**"
      ]
    },
    {
      "cell_type": "code",
      "metadata": {
        "id": "W9NT039KU_wz"
      },
      "source": [
        "import math \n",
        "from decimal import Decimal\n",
        "\n",
        "def calculate_tf_idf(N, df, tfd):\n",
        "  a = math.log((1+tfd), 10)\n",
        "  b = math.log((N/df), 10)\n",
        "  return round((a * b), 6)"
      ],
      "execution_count": 10,
      "outputs": []
    },
    {
      "cell_type": "code",
      "metadata": {
        "id": "ZLv69C_4wPrN"
      },
      "source": [
        "import math \n",
        "\n",
        "def save_norm(filename, norm_dict):\n",
        "  \n",
        "  norm_sorted = sorted(norm_dict)\n",
        "\n",
        "  with open(filename, 'w') as writefile:\n",
        "    line = \"\"\n",
        "    for key in norm_sorted:\n",
        "      tmp = math.sqrt(norm_dict[key])\n",
        "      tmp = round(tmp, 6)\n",
        "      line = str(key) + \" \" + str(tmp) + \"\\n\"\n",
        "      writefile.write(line)\n",
        "  print(filename + \" saved \")"
      ],
      "execution_count": 28,
      "outputs": []
    },
    {
      "cell_type": "code",
      "metadata": {
        "id": "V6HsIjFlyTte",
        "colab": {
          "base_uri": "https://localhost:8080/"
        },
        "outputId": "ecc888e5-812b-4623-87ba-9777f4dfd25b"
      },
      "source": [
        "import os\n",
        "import json\n",
        "import nltk \n",
        "from nltk.tokenize import word_tokenize\n",
        "#Getting the stop words\n",
        "stoplist = getStopWordsFromFile('stoplist_new.txt')\n",
        "\n",
        "path = '/content/drive/My Drive/DB2/CleanData'\n",
        "json_list = os.listdir(path)\n",
        "\n",
        "tfid_File = \"tfidf.txt\"\n",
        "norm_file = \"normas.txt\"\n",
        "print(\"There are \", len(json_list), \" json files\")\n",
        "\n",
        "terms = {}\n",
        "N_count = 0\n",
        "for file_name in json_list:\n",
        "#with open('/content/drive/My Drive/DB2/CleanData/tweets_2018-08-07.json', 'r') as f:\n",
        "#file_name = \"tweets_2018-08-30.json\"\n",
        "  if file_name == tfid_File or file_name == norm_file:\n",
        "    continue\n",
        "     \n",
        "  print(\"Processing: \", file_name)\n",
        "  with open(path + \"/\" + file_name, 'r') as f:\n",
        "    tmp = json.load(f)\n",
        "    for json_str in tmp:\n",
        "            #print(json_str)\n",
        "      docId = json_str['id']\n",
        "      textAttr = json_str[\"text\"]\n",
        "      tokens = nltk.word_tokenize(textAttr) #Tokenization\n",
        "          #print(tokens)\n",
        "      N_count = N_count + 1\n",
        "      tokens_clean = remove_stop_words(tokens, stoplist) #removing stop words\n",
        "            #print(docId, \" \", len(tokens), \" \", len(tokens_clean))\n",
        "            #print(docId, \" \", tokens)\n",
        "      if tokens_clean:\n",
        "              #print(docId, \" \", tokens_clean)\n",
        "        calculate_df_tfd(tokens_clean, terms, docId)\n",
        "\n",
        "#Save in secondary memory\n",
        "\n",
        "#tfidf file\n",
        "terms_sorted = sorted(terms)\n",
        "\n",
        "norm = {}\n",
        "with open(path + \"/\" + tfid_File, 'w') as writefile:\n",
        "  for key in terms_sorted:\n",
        "    line = \"\"\n",
        "    obj = terms[key]\n",
        "    #print(key, len(obj.df))\n",
        "       \n",
        "    for docId in obj.tfd:\n",
        "      #line = line + \",\" + str(tfi) + \":\" + str(obj.tfd[tfi])\n",
        "      rate = calculate_tf_idf(N_count, len(obj.df), obj.tfd[docId])\n",
        "      line = line + str(tfi) + \",\" + str(rate) + \":\"\n",
        "      \n",
        "      if docId in norm:\n",
        "        tmp = rate*rate\n",
        "        norm[docId] = norm[docId] + tmp        \n",
        "      else:\n",
        "        norm[docId] = rate * rate\n",
        "\n",
        "    line = key + \":\" + line[:-1] + \"\\n\"\n",
        "    writefile.write(line)\n",
        "    #print(line)\n",
        "\n",
        "#Norm file\n",
        "filename = path + \"/\" + norm_file\n",
        "save_norm(filename, norm)"
      ],
      "execution_count": 34,
      "outputs": [
        {
          "output_type": "stream",
          "text": [
            "There are  59  json files\n",
            "Processing:  tweets_2018-08-31.json\n",
            "Processing:  tweets_2018-08-12.json\n",
            "Processing:  tweets_2018-08-10.json\n",
            "Processing:  tweets_2018-08-11.json\n",
            "Processing:  tweets_2018-08-09.json\n",
            "Processing:  tweets_2018-08-08.json\n",
            "Processing:  tweets_2018-08-07.json\n",
            "Processing:  tweets_2018-10-02.json\n",
            "Processing:  tweets_2018-10-03.json\n",
            "Processing:  tweets_2018-10-04.json\n",
            "Processing:  tweets_2018-09-28.json\n",
            "Processing:  tweets_2018-10-01.json\n",
            "Processing:  tweets_2018-10-05.json\n",
            "Processing:  tweets_2018-09-25.json\n",
            "Processing:  tweets_2018-09-27.json\n",
            "Processing:  tweets_2018-09-26.json\n",
            "Processing:  tweets_2018-09-29.json\n",
            "Processing:  tweets_2018-09-22.json\n",
            "Processing:  tweets_2018-09-20.json\n",
            "Processing:  tweets_2018-09-21.json\n",
            "Processing:  tweets_2018-09-30.json\n",
            "Processing:  tweets_2018-09-16.json\n",
            "Processing:  tweets_2018-09-24.json\n",
            "Processing:  tweets_2018-09-18.json\n",
            "Processing:  tweets_2018-09-19.json\n",
            "Processing:  tweets_2018-09-17.json\n",
            "Processing:  tweets_2018-09-15.json\n",
            "Processing:  tweets_2018-09-12.json\n",
            "Processing:  tweets_2018-09-11.json\n",
            "Processing:  tweets_2018-09-10.json\n",
            "Processing:  tweets_2018-09-13.json\n",
            "Processing:  tweets_2018-09-08.json\n",
            "Processing:  tweets_2018-09-09.json\n",
            "Processing:  tweets_2018-09-14.json\n",
            "Processing:  tweets_2018-09-07.json\n",
            "Processing:  tweets_2018-09-05.json\n",
            "Processing:  tweets_2018-09-02.json\n",
            "Processing:  tweets_2018-09-23.json\n",
            "Processing:  tweets_2018-09-06.json\n",
            "Processing:  tweets_2018-08-29.json\n",
            "Processing:  tweets_2018-08-30.json\n",
            " Error in token  //t.co/JxZAGVxpOo⬅\n",
            "Processing:  tweets_2018-08-28.json\n",
            " Error in token  //t.co/Bo4V4Ey8eE👈🏻👈🏻👈🏻👈🏻👈🏻\n",
            "Processing:  tweets_2018-08-27.json\n",
            "Processing:  tweets_2018-08-26.json\n",
            "Processing:  tweets_2018-08-25.json\n",
            "Processing:  tweets_2018-09-03.json\n",
            "Processing:  tweets_2018-09-04.json\n",
            "Processing:  tweets_2018-08-24.json\n",
            "Processing:  tweets_2018-08-19.json\n",
            "Processing:  tweets_2018-08-20.json\n",
            "Processing:  tweets_2018-08-21.json\n",
            "Processing:  tweets_2018-08-18.json\n",
            "Processing:  tweets_2018-08-22.json\n",
            "Processing:  tweets_2018-08-16.json\n",
            "Processing:  tweets_2018-08-15.json\n",
            "Processing:  tweets_2018-08-23.json\n",
            " Error in token  //t.co/Bo4V4Ey8eE👈🏻👈🏻👈🏻\n",
            "Processing:  tweets_2018-08-17.json\n",
            "Processing:  tweets_2018-08-14.json\n",
            "Processing:  tweets_2018-08-13.json\n",
            "/content/drive/My Drive/DB2/CleanData/normas.txt saved \n"
          ],
          "name": "stdout"
        }
      ]
    }
  ]
}